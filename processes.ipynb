{
 "cells": [
  {
   "cell_type": "code",
   "execution_count": 2,
   "metadata": {},
   "outputs": [],
   "source": [
    "import time\n",
    "\n",
    "def square(number):\n",
    "\n",
    "    time.sleep(1)\n",
    "    result=number*number\n",
    "    print(f\"Square of the number {number} is {result}\")\n",
    "    "
   ]
  },
  {
   "cell_type": "code",
   "execution_count": 4,
   "metadata": {},
   "outputs": [
    {
     "name": "stdout",
     "output_type": "stream",
     "text": [
      "Square of the number 1 is 1\n",
      "Square of the number 2 is 4\n",
      "Square of the number 3 is 9\n",
      "Square of the number 4 is 16\n",
      "4.00252890586853\n"
     ]
    }
   ],
   "source": [
    "numbers=[1,2,3,4]\n",
    "\n",
    "start_time=time.time()\n",
    "\n",
    "for i in numbers:\n",
    "    square(i)\n",
    "\n",
    "end_time=time.time()\n",
    "\n",
    "total_time=end_time-start_time\n",
    "\n",
    "print(total_time)"
   ]
  },
  {
   "cell_type": "code",
   "execution_count": 4,
   "metadata": {},
   "outputs": [],
   "source": [
    "import os\n",
    "from multiprocessing import Process, current_process\n",
    "import time\n",
    "output=[]\n",
    "def square(number):\n",
    "\n",
    "    time.sleep(1)\n",
    "    result=number*number\n",
    "    process_id=os.getpid()\n",
    "    print('Process ID: ',process_id)\n",
    "    print(f\"Square of the number {number} is {result}\")\n",
    "    output.append(result)\n",
    "\n",
    "   \n",
    "    "
   ]
  },
  {
   "cell_type": "code",
   "execution_count": 8,
   "metadata": {},
   "outputs": [],
   "source": [
    "\n",
    "\n",
    "numbers=[1,2,3,4]\n",
    "procs = []\n",
    "start_time=time.time()\n",
    "\n",
    "for i,number in enumerate(numbers):\n",
    "    process=Process(target=square,args=(number,))\n",
    "    #procs.append(process)\n",
    "    procs.append(process)\n",
    "    #square(i)\n",
    "for proc in procs:\n",
    "    proc.start()\n",
    "# for proc in procs:\n",
    "#     proc.join()\n",
    "end_time=time.time()\n",
    "#process.join()\n",
    "\n",
    "total_time=end_time-start_time\n",
    "\n"
   ]
  },
  {
   "cell_type": "code",
   "execution_count": 6,
   "metadata": {},
   "outputs": [
    {
     "data": {
      "text/plain": [
       "[]"
      ]
     },
     "execution_count": 6,
     "metadata": {},
     "output_type": "execute_result"
    }
   ],
   "source": [
    "output"
   ]
  },
  {
   "cell_type": "code",
   "execution_count": 9,
   "metadata": {},
   "outputs": [
    {
     "name": "stdout",
     "output_type": "stream",
     "text": [
      "Waiting for the process...\n"
     ]
    }
   ],
   "source": [
    "# SuperFastPython.com\n",
    "# example of running a function in another process\n",
    "from time import sleep\n",
    "from multiprocessing import Process\n",
    " \n",
    "# a custom function that blocks for a moment\n",
    "def task():\n",
    "    # block for a moment\n",
    "    sleep(1)\n",
    "    # display a message\n",
    "    print('This is from another process')\n",
    " \n",
    "# entry point\n",
    "if __name__ == '__main__':\n",
    "    # create a process\n",
    "    process = Process(target=task)\n",
    "    # run the process\n",
    "    process.start()\n",
    "    # wait for the process to finish\n",
    "    print('Waiting for the process...')\n",
    "    process.join()"
   ]
  },
  {
   "cell_type": "code",
   "execution_count": 10,
   "metadata": {},
   "outputs": [],
   "source": [
    "from multiprocessing import Process\n",
    "\n",
    "def f(name):\n",
    "    print('hello', name)\n",
    "\n",
    "if __name__ == '__main__':\n",
    "    p = Process(target=f, args=('bob',))\n",
    "    p.start()\n",
    "    p.join()"
   ]
  },
  {
   "cell_type": "code",
   "execution_count": null,
   "metadata": {},
   "outputs": [],
   "source": []
  }
 ],
 "metadata": {
  "kernelspec": {
   "display_name": "base",
   "language": "python",
   "name": "python3"
  },
  "language_info": {
   "codemirror_mode": {
    "name": "ipython",
    "version": 3
   },
   "file_extension": ".py",
   "mimetype": "text/x-python",
   "name": "python",
   "nbconvert_exporter": "python",
   "pygments_lexer": "ipython3",
   "version": "3.11.5"
  }
 },
 "nbformat": 4,
 "nbformat_minor": 2
}
