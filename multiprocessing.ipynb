{
 "cells": [
  {
   "cell_type": "code",
   "execution_count": 1,
   "metadata": {},
   "outputs": [],
   "source": [
    "## Python Queueus   \n",
    "\n",
    "##FIFO\n",
    "\n",
    "import queue\n",
    "\n",
    "q=queue.Queue()\n"
   ]
  },
  {
   "cell_type": "code",
   "execution_count": 2,
   "metadata": {},
   "outputs": [],
   "source": [
    "for i in range(7):\n",
    "    q.put(i)"
   ]
  },
  {
   "cell_type": "code",
   "execution_count": 3,
   "metadata": {},
   "outputs": [
    {
     "data": {
      "text/plain": [
       "<queue.Queue at 0x230220d6950>"
      ]
     },
     "execution_count": 3,
     "metadata": {},
     "output_type": "execute_result"
    }
   ],
   "source": [
    "q"
   ]
  },
  {
   "cell_type": "code",
   "execution_count": 4,
   "metadata": {},
   "outputs": [
    {
     "data": {
      "text/plain": [
       "deque([0, 1, 2, 3, 4, 5, 6])"
      ]
     },
     "execution_count": 4,
     "metadata": {},
     "output_type": "execute_result"
    }
   ],
   "source": [
    "q.queue"
   ]
  },
  {
   "cell_type": "code",
   "execution_count": 5,
   "metadata": {},
   "outputs": [
    {
     "data": {
      "text/plain": [
       "False"
      ]
     },
     "execution_count": 5,
     "metadata": {},
     "output_type": "execute_result"
    }
   ],
   "source": [
    "q.empty()"
   ]
  },
  {
   "cell_type": "code",
   "execution_count": 6,
   "metadata": {},
   "outputs": [
    {
     "name": "stdout",
     "output_type": "stream",
     "text": [
      "0\n",
      "1\n",
      "2\n",
      "3\n",
      "4\n",
      "5\n",
      "6\n"
     ]
    }
   ],
   "source": [
    "while not q.empty():\n",
    "    print(q.get())"
   ]
  },
  {
   "cell_type": "code",
   "execution_count": 8,
   "metadata": {},
   "outputs": [
    {
     "data": {
      "text/plain": [
       "deque([])"
      ]
     },
     "execution_count": 8,
     "metadata": {},
     "output_type": "execute_result"
    }
   ],
   "source": [
    "q.queue"
   ]
  },
  {
   "cell_type": "markdown",
   "metadata": {},
   "source": [
    "Queue data structure are thread safe - Python queues are thread-safe, meaning they can be accessed by multiple threads simultaneously without the risk of data corruption. However, you might encounter issues when multiple threads try to read from an empty queue at the same time."
   ]
  },
  {
   "cell_type": "code",
   "execution_count": 9,
   "metadata": {},
   "outputs": [
    {
     "name": "stdout",
     "output_type": "stream",
     "text": [
      "6\n",
      "5\n",
      "4\n",
      "3\n",
      "2\n",
      "1\n",
      "0\n"
     ]
    }
   ],
   "source": [
    "## Stack - they are also thread safe.\n",
    "\n",
    "##LIFO\n",
    "\n",
    "q=queue.LifoQueue()\n",
    "\n",
    "for i in range(7):\n",
    "    q.put(i)\n",
    "\n",
    "\n",
    "while not q.empty():\n",
    "    print(q.get())"
   ]
  },
  {
   "cell_type": "code",
   "execution_count": 10,
   "metadata": {},
   "outputs": [
    {
     "name": "stdout",
     "output_type": "stream",
     "text": [
      "1\n",
      "2\n",
      "3\n",
      "4\n",
      "5\n"
     ]
    }
   ],
   "source": [
    "# Elements get added to queue in any order but gets removed based on priority\n",
    "import time\n",
    "\n",
    "q=queue.PriorityQueue()\n",
    "\n",
    "q.put(5)\n",
    "q.put(4)\n",
    "q.put(1)\n",
    "q.put(3)\n",
    "q.put(2)\n",
    "\n",
    "while not q.empty():\n",
    "    print(q.get())\n"
   ]
  },
  {
   "cell_type": "code",
   "execution_count": 11,
   "metadata": {},
   "outputs": [
    {
     "data": {
      "text/plain": [
       "6"
      ]
     },
     "execution_count": 11,
     "metadata": {},
     "output_type": "execute_result"
    }
   ],
   "source": [
    "#### Multithreading \n",
    "\n",
    "\n",
    "q=queue.Queue()\n",
    "\n",
    "q.put(6)\n",
    "q.get()\n"
   ]
  },
  {
   "cell_type": "code",
   "execution_count": 12,
   "metadata": {},
   "outputs": [
    {
     "data": {
      "text/plain": [
       "True"
      ]
     },
     "execution_count": 12,
     "metadata": {},
     "output_type": "execute_result"
    }
   ],
   "source": [
    "q.empty()"
   ]
  },
  {
   "cell_type": "code",
   "execution_count": 13,
   "metadata": {},
   "outputs": [],
   "source": [
    "q.get()"
   ]
  },
  {
   "cell_type": "code",
   "execution_count": 2,
   "metadata": {},
   "outputs": [],
   "source": [
    "import threading\n",
    "import random\n",
    "\n"
   ]
  },
  {
   "cell_type": "code",
   "execution_count": 3,
   "metadata": {},
   "outputs": [],
   "source": [
    "counter=1\n",
    "\n",
    "more_to_come=True\n"
   ]
  },
  {
   "cell_type": "code",
   "execution_count": 4,
   "metadata": {},
   "outputs": [],
   "source": [
    "import time\n",
    "class Producer:\n",
    "    def __init__(self,queue):\n",
    "\n",
    "        threading.Thread.__init__(self)\n",
    "        self.queue=queue\n",
    "\n",
    "    def run(self):\n",
    "\n",
    "        global counter\n",
    "        global more_to_come\n",
    "\n",
    "        for i in range(5):\n",
    "\n",
    "            time.sleep(random.randrange(2,5))\n",
    "            item= 'New Item #'+str(counter)\n",
    "\n",
    "            self.queue.put(item)\n",
    "            counter+=1\n",
    "\n",
    "            print('\\nProduced Item:',item)\n",
    "\n",
    "        more_to_come=False\n",
    "\n",
    "\n",
    "\n"
   ]
  },
  {
   "cell_type": "code",
   "execution_count": 5,
   "metadata": {},
   "outputs": [],
   "source": [
    "class Consumer:\n",
    "    def __init__(self,queue):\n",
    "\n",
    "        threading.Thread.__init__(self)\n",
    "        self.queue=queue\n",
    "\n",
    "    def run(self):\n",
    "        while(more_to_come):\n",
    "            item=self.queue.get(timeout=10)\n",
    "            time.sleep=random.random()\n",
    "            print(threading.current_thread().getName(), \" popped: \",item)\n",
    "\n",
    "\n",
    "        print(threading.current_thread().getName(), \" exiting... \")\n",
    "\n",
    "\n"
   ]
  },
  {
   "cell_type": "code",
   "execution_count": 6,
   "metadata": {},
   "outputs": [
    {
     "ename": "AttributeError",
     "evalue": "'Producer' object has no attribute 'start'",
     "output_type": "error",
     "traceback": [
      "\u001b[1;31m---------------------------------------------------------------------------\u001b[0m",
      "\u001b[1;31mAttributeError\u001b[0m                            Traceback (most recent call last)",
      "Cell \u001b[1;32mIn[6], line 6\u001b[0m\n\u001b[0;32m      3\u001b[0m producer_thread\u001b[38;5;241m=\u001b[39mProducer(q)\n\u001b[0;32m      4\u001b[0m consumer_thread\u001b[38;5;241m=\u001b[39mConsumer(q)\n\u001b[1;32m----> 6\u001b[0m producer_thread\u001b[38;5;241m.\u001b[39mstart()\n\u001b[0;32m      7\u001b[0m consumer_thread\u001b[38;5;241m.\u001b[39mstart()\n\u001b[0;32m      9\u001b[0m producer_thread\u001b[38;5;241m.\u001b[39mjoin()\n",
      "\u001b[1;31mAttributeError\u001b[0m: 'Producer' object has no attribute 'start'"
     ]
    }
   ],
   "source": [
    "q=queue.Queue()\n",
    "\n",
    "producer_thread=Producer(q)\n",
    "consumer_thread=Consumer(q)\n",
    "\n",
    "producer_thread.start()\n",
    "consumer_thread.start()\n",
    "\n",
    "producer_thread.join()\n",
    "consumer_thread.join()"
   ]
  },
  {
   "cell_type": "code",
   "execution_count": null,
   "metadata": {},
   "outputs": [],
   "source": []
  }
 ],
 "metadata": {
  "kernelspec": {
   "display_name": "base",
   "language": "python",
   "name": "python3"
  },
  "language_info": {
   "codemirror_mode": {
    "name": "ipython",
    "version": 3
   },
   "file_extension": ".py",
   "mimetype": "text/x-python",
   "name": "python",
   "nbconvert_exporter": "python",
   "pygments_lexer": "ipython3",
   "version": "3.11.5"
  }
 },
 "nbformat": 4,
 "nbformat_minor": 2
}
